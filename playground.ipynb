{
 "cells": [
  {
   "cell_type": "code",
   "execution_count": null,
   "outputs": [],
   "source": [
    "#helper functions\n",
    "\n",
    "def contains_ckpt(dir_path):\n",
    "    ckpt_files = [f for f in os.listdir(dir_path) if f.endswith('.ckpt')]\n",
    "    if ckpt_files:\n",
    "        return True\n",
    "    else:\n",
    "        return False\n",
    "\n",
    "\n",
    "def download_from_url(url, save_dir, filename=None):\n",
    "    if not filename:\n",
    "        filename = url.split('/')[-1]\n",
    "    file_path = os.path.join(save_dir, filename)\n",
    "    os.makedirs(save_dir, exist_ok=True)\n",
    "    response = requests.get(url, stream=True)\n",
    "    if response.status_code == 200:\n",
    "        # Open the file in write-binary mode and save the content\n",
    "        with open(file_path, 'wb') as f:\n",
    "            f.write(response.content)\n",
    "        print(f\"File downloaded and saved to {file_path}\")\n",
    "        return True\n",
    "    else:\n",
    "        print(f\"Failed to download file. Status code: {response.status_code}\")\n",
    "        return False\n",
    "\n",
    "\n",
    "def get_model_path(model_name_or_path):\n",
    "    try:\n",
    "        if os.path.exists(model_name_or_path):\n",
    "            if os.path.isdir(model_name_or_path):\n",
    "                if contains_ckpt(model_name_or_path):\n",
    "                    return model_name_or_path # TODO fix to include ckpt\n",
    "                else:\n",
    "                    raise NotImplementedError\n",
    "            elif model_name_or_path.endswith(\".ckpt\"):\n",
    "                return model_name_or_path\n",
    "            else:\n",
    "                raise NotImplementedError\n",
    "        else:\n",
    "            raise NotImplementedError\n",
    "    except:\n",
    "        if os.path.exists(os.path.join(models_dir, model_name_or_path)) and contains_ckpt(os.path.join(models_dir, model_name_or_path)):\n",
    "            return os.path.join(models_dir, model_name_or_path, f\"{model_name_or_path}.ckpt\")\n",
    "        elif model_name_or_path in [\"edisum_0\", \"edisum_25\", \"edisum_50\", \"edisum_75\", \"edisum_100\"]:\n",
    "            url = f\"https://huggingface.co/msakota/edisum/resolve/main/{model_name_or_path}.ckpt\"\n",
    "            if download_from_url(url, os.path.join(models_dir, model_name_or_path)):\n",
    "                return os.path.join(models_dir, model_name_or_path, f\"{model_name_or_path}.ckpt\")\n",
    "        raise NotImplementedError(\"Model path or name provided not found, make sure to specify correct path or name\")\n",
    "\n",
    "\n",
    "def get_revid(url):\n",
    "    match = re.search(r'oldid=(\\d+)', url)\n",
    "    if match:\n",
    "        return match.group(1)\n",
    "    else:\n",
    "        raise Exception(\"Invalid link, revision id not found\")\n",
    "\n",
    "\n",
    "def get_input_text(diff_link, prohibit_node):\n",
    "    rev_id = get_revid(diff_link)\n",
    "    page_id = get_pageid_from_revid(rev_id)\n",
    "    prev_text, curr_text = get_prev_cur_wikitext_from_revid_pageid(rev_id, page_id)\n",
    "    et = StructuredEditTypes(prev_text, curr_text, lang='en')\n",
    "    structure_diff = et.get_diff()\n",
    "    level = \"Sentence\"\n",
    "    diff = {\"prev_texts\":[], \"cur_texts\":[]}\n",
    "    # we do not support node-edits for now\n",
    "    if len(structure_diff['node-edits']) > 0 and prohibit_node:\n",
    "        return None\n",
    "    for item in structure_diff['text-edits']:\n",
    "        if item.type != level:\n",
    "            continue\n",
    "        if item.edittype == 'remove':\n",
    "            diff[\"prev_texts\"].append(item.text)\n",
    "        else:\n",
    "            diff[\"cur_texts\"].append(item.text)\n",
    "\n",
    "    if len(diff[\"prev_texts\"]) + len(diff[\"cur_texts\"]) == 0:\n",
    "        return None\n",
    "\n",
    "    diff['prev_texts'] = sorted(diff['prev_texts'])\n",
    "    diff['cur_texts'] = sorted(diff['cur_texts'])\n",
    "    prev_texts_sep = \"<sent_sep>\".join(diff[\"prev_texts\"])\n",
    "    cur_texts_sep = \"<sent_sep>\".join(diff[\"cur_texts\"])\n",
    "    input_text = f\"<old_text>{prev_texts_sep}<new_text>{cur_texts_sep}\"\n",
    "    return input_text\n"
   ],
   "metadata": {
    "collapsed": false,
    "pycharm": {
     "name": "#%%\n"
    }
   }
  },
  {
   "cell_type": "code",
   "execution_count": null,
   "outputs": [],
   "source": [
    "# variables to set by the user:\n",
    "\n",
    "model_name_or_path=\"edisum_100\"\n",
    "input_text = None\n",
    "diff_link = \"https://en.wikipedia.org/w/index.php?title=C/2023_A3_(Tsuchinshan–ATLAS)&diff=prev&oldid=1251169752\"\n",
    "prohibit_node = False\n"
   ],
   "metadata": {
    "collapsed": false,
    "pycharm": {
     "name": "#%%\n"
    }
   }
  },
  {
   "cell_type": "code",
   "execution_count": null,
   "outputs": [],
   "source": [
    "# resolve the path and input\n",
    "\n",
    "model_path = get_model_path(model_name_or_path)\n",
    "print(f\"Model path resolved: {model_path}\")\n",
    "assert (input_text is None) != (diff_link is None), \"Exactly one of diff_link or input_text must be set (not None)\"\n",
    "if diff_link is not None:\n",
    "    input_text = get_input_text(diff_link, prohibit_node)\n",
    "else:\n",
    "    pass # TODO add formatting\n",
    "print(f\"Input text resolved: {input_text}\")"
   ],
   "metadata": {
    "collapsed": false,
    "pycharm": {
     "name": "#%%\n"
    }
   }
  },
  {
   "cell_type": "code",
   "execution_count": null,
   "outputs": [],
   "source": [
    "# running the prediction\n",
    "\n",
    "if input_text is None:\n",
    "    print(\"We do not support node changes yet, and the diff has no extractable textual difference.\")\n",
    "else:\n",
    "    model = T5PL.load_from_checkpoint(model_path)\n",
    "    tokenizer = AutoTokenizer.from_pretrained(\"google/long-t5-local-base\")\n",
    "    tokenizer_output = tokenizer(\n",
    "        [input_text],\n",
    "        return_tensors=\"pt\",\n",
    "        return_attention_mask=True,\n",
    "        padding='longest',\n",
    "        max_length=512,\n",
    "        truncation=True,\n",
    "    )\n",
    "    batch = {}\n",
    "    for k, v in tokenizer_output.items():\n",
    "        batch[\"{}_{}\".format('src', k)] = v\n",
    "\n",
    "    predictions = model._get_predictions_for_batch(batch, None)\n",
    "    print(f\"Model output: {predictions['grouped_decoded_sequences'][0][0]}\")"
   ],
   "metadata": {
    "collapsed": false,
    "pycharm": {
     "name": "#%%\n"
    }
   }
  },
  {
   "cell_type": "code",
   "execution_count": null,
   "outputs": [],
   "source": [
    "from src.models import T5PL\n",
    "from src.tools.wiki_tools import get_prev_cur_wikitext_from_revid_pageid, get_pageid_from_revid\n",
    "import re\n",
    "import os\n",
    "from transformers import AutoTokenizer\n",
    "from mwedittypes import StructuredEditTypes\n",
    "from mwedittypes.tokenizer import parse_change_text\n",
    "from mwedittypes.utils import wikitext_to_plaintext\n",
    "import requests\n",
    "import sys\n",
    "script_dir = os.path.dirname(os.path.realpath(__file__))\n",
    "models_dir = os.path.join(script_dir, 'models')"
   ],
   "metadata": {
    "collapsed": false,
    "pycharm": {
     "name": "#%%\n"
    }
   }
  }
 ],
 "metadata": {
  "kernelspec": {
   "display_name": "Python 3",
   "language": "python",
   "name": "python3"
  },
  "language_info": {
   "codemirror_mode": {
    "name": "ipython",
    "version": 2
   },
   "file_extension": ".py",
   "mimetype": "text/x-python",
   "name": "python",
   "nbconvert_exporter": "python",
   "pygments_lexer": "ipython2",
   "version": "2.7.6"
  }
 },
 "nbformat": 4,
 "nbformat_minor": 0
}